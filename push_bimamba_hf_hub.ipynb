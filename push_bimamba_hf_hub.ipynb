{
 "cells": [
  {
   "cell_type": "code",
   "execution_count": null,
   "id": "4f1911ce",
   "metadata": {},
   "outputs": [],
   "source": [
    "from huggingface_hub import notebook_login\n",
    "\n",
    "notebook_login()"
   ]
  },
  {
   "cell_type": "code",
   "execution_count": null,
   "id": "620a544d",
   "metadata": {},
   "outputs": [],
   "source": [
    "from bimamba_hf.configuration_bimamba import BiMambaConfig\n",
    "from bimamba_hf.modeling_bimamba import BiMamba, BiMambaForMaskedLM"
   ]
  },
  {
   "cell_type": "code",
   "execution_count": null,
   "id": "8bee492d",
   "metadata": {},
   "outputs": [],
   "source": [
    "BiMambaConfig.register_for_auto_class(\"AutoConfig\")\n",
    "BiMamba.register_for_auto_class(\"AutoModel\")\n",
    "BiMambaForMaskedLM.register_for_auto_class(\"AutoModelForMaskedLM\")"
   ]
  },
  {
   "cell_type": "code",
   "execution_count": null,
   "id": "f2de7279",
   "metadata": {},
   "outputs": [],
   "source": [
    "config = BiMambaConfig(\n",
    "    auto_map={\n",
    "        \"AutoConfig\": \"configuration_bimamba.BiMambaConfig\",\n",
    "        \"AutoModel\": \"modeling_bimamba.BiMamba\",\n",
    "        \"AutoModelForMaskedLM\": \"modeling_bimamba.BiMambaForMaskedLM\",\n",
    "    },\n",
    "    d_model=2,\n",
    "    n_layer=1,\n",
    "    vocab_size=1,\n",
    "    ssm_cfg={\n",
    "        \"d_state\": 16,\n",
    "        \"d_conv\": 4,\n",
    "        \"expand\": 2,\n",
    "        \"dt_rank\": \"auto\",\n",
    "        \"dt_min\": 0.001,\n",
    "        \"dt_max\": 0.1,\n",
    "        \"dt_init\": \"random\",\n",
    "        \"dt_scale\": 1.0,\n",
    "        \"dt_init_floor\": 1e-4,\n",
    "        \"conv_bias\": True,\n",
    "        \"bias\": False,\n",
    "        \"use_fast_path\": True\n",
    "    },\n",
    "    rms_norm=True,\n",
    "    residual_in_fp32=True,\n",
    "    fused_add_norm=True,\n",
    "    pad_vocab_size_multiple=8,\n",
    "    norm_epsilon=1e-5,\n",
    "    initializer_cfg={\n",
    "        \"initializer_range\": 0.02,\n",
    "        \"rescale_prenorm_residual\": True,\n",
    "        \"n_residuals_per_layer\": 1\n",
    "    },\n",
    "    pad_token_id=-100,\n",
    "    bidirectional=True,\n",
    "    bidirectional_strategy=\"add\",\n",
    "    bidirectional_weight_tie=True,\n",
    ")"
   ]
  },
  {
   "cell_type": "code",
   "execution_count": null,
   "id": "3619e246",
   "metadata": {},
   "outputs": [],
   "source": [
    "model = BiMambaForMaskedLM(config)"
   ]
  },
  {
   "cell_type": "code",
   "execution_count": null,
   "id": "b1959752",
   "metadata": {},
   "outputs": [],
   "source": [
    "model.config"
   ]
  },
  {
   "cell_type": "code",
   "execution_count": null,
   "id": "01433ed7",
   "metadata": {},
   "outputs": [],
   "source": [
    "model.push_to_hub(\"yairschiff/bimamba-template\")"
   ]
  },
  {
   "cell_type": "code",
   "execution_count": null,
   "id": "1790a14c",
   "metadata": {},
   "outputs": [],
   "source": []
  }
 ],
 "metadata": {
  "kernelspec": {
   "display_name": "Python 3 (ipykernel)",
   "language": "python",
   "name": "python3"
  },
  "language_info": {
   "codemirror_mode": {
    "name": "ipython",
    "version": 3
   },
   "file_extension": ".py",
   "mimetype": "text/x-python",
   "name": "python",
   "nbconvert_exporter": "python",
   "pygments_lexer": "ipython3",
   "version": "3.8.18"
  }
 },
 "nbformat": 4,
 "nbformat_minor": 5
}
