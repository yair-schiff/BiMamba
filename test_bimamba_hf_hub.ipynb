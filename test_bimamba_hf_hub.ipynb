{
 "cells": [
  {
   "cell_type": "code",
   "execution_count": null,
   "id": "67662a66",
   "metadata": {},
   "outputs": [],
   "source": [
    "import torch\n",
    "from transformers import AutoConfig, AutoModelForMaskedLM, AutoTokenizer"
   ]
  },
  {
   "cell_type": "code",
   "execution_count": null,
   "id": "e1327309",
   "metadata": {},
   "outputs": [],
   "source": [
    "tokenizer = AutoTokenizer.from_pretrained(\"bert-base-uncased\")"
   ]
  },
  {
   "cell_type": "code",
   "execution_count": null,
   "id": "a6abdc4a",
   "metadata": {},
   "outputs": [],
   "source": [
    "model_name_or_path = \"yairschiff/bimamba-template\""
   ]
  },
  {
   "cell_type": "code",
   "execution_count": null,
   "id": "aaf2f99c",
   "metadata": {},
   "outputs": [],
   "source": [
    "config_overrides = {\n",
    "    \"d_model\": 128,\n",
    "    \"n_layer\": 2,\n",
    "    \"pad_token_id\": tokenizer.pad_token_id,\n",
    "    \"vocab_size\": tokenizer.vocab_size,\n",
    "    \"pad_vocab_size_multiple\": 1,\n",
    "}"
   ]
  },
  {
   "cell_type": "code",
   "execution_count": null,
   "id": "5369608c",
   "metadata": {},
   "outputs": [],
   "source": [
    "config = AutoConfig.from_pretrained(\n",
    "    model_name_or_path,\n",
    "    **config_overrides,\n",
    "    trust_remote_code=True\n",
    ")"
   ]
  },
  {
   "cell_type": "code",
   "execution_count": null,
   "id": "bf121894",
   "metadata": {},
   "outputs": [],
   "source": [
    "model = AutoModelForMaskedLM.from_config(\n",
    "    config=config,\n",
    "    trust_remote_code=True\n",
    ")"
   ]
  },
  {
   "cell_type": "code",
   "execution_count": null,
   "id": "7367eb16",
   "metadata": {},
   "outputs": [],
   "source": [
    "device = \"cuda\" if torch.cuda.is_available() else \"cpu\""
   ]
  },
  {
   "cell_type": "code",
   "execution_count": null,
   "id": "4e9abb37",
   "metadata": {},
   "outputs": [],
   "source": [
    "inputs = [\"The cat in the hat\"]\n",
    "tokenized = tokenizer.batch_encode_plus(inputs, return_tensors=\"pt\")"
   ]
  },
  {
   "cell_type": "code",
   "execution_count": null,
   "id": "68568277",
   "metadata": {},
   "outputs": [],
   "source": [
    "model = model.to(device)\n",
    "model_out = model(tokenized[\"input_ids\"].to(device), output_hidden_states=True)"
   ]
  },
  {
   "cell_type": "code",
   "execution_count": null,
   "id": "28ff8df2",
   "metadata": {},
   "outputs": [],
   "source": [
    "model_out.hidden_states[-1].shape"
   ]
  },
  {
   "cell_type": "code",
   "execution_count": null,
   "id": "139126f2",
   "metadata": {},
   "outputs": [],
   "source": []
  }
 ],
 "metadata": {
  "kernelspec": {
   "display_name": "Python 3 (ipykernel)",
   "language": "python",
   "name": "python3"
  },
  "language_info": {
   "codemirror_mode": {
    "name": "ipython",
    "version": 3
   },
   "file_extension": ".py",
   "mimetype": "text/x-python",
   "name": "python",
   "nbconvert_exporter": "python",
   "pygments_lexer": "ipython3",
   "version": "3.8.18"
  }
 },
 "nbformat": 4,
 "nbformat_minor": 5
}
